{
 "cells": [
  {
   "cell_type": "code",
   "execution_count": 112,
   "metadata": {
    "collapsed": true
   },
   "outputs": [],
   "source": [
    "%matplotlib inline\n",
    "import numpy as np\n",
    "import matplotlib.pyplot as plt\n",
    "import random\n",
    "import copy"
   ]
  },
  {
   "cell_type": "code",
   "execution_count": 91,
   "metadata": {
    "collapsed": true
   },
   "outputs": [],
   "source": [
    "# data generator\n",
    "\n",
    "class DataSimulor:\n",
    "    @staticmethod\n",
    "    def draw_line(f, xmin=0, xmax=10):\n",
    "        x = np.linspace(xmin, xmax)\n",
    "        y = f(x)\n",
    "        plt.plot(x, y, 'r')\n",
    "        \n",
    "    @staticmethod\n",
    "    def get_data(f, xmin=0, xmax=10, space=0.01, lamda=0.1):\n",
    "        x = np.arange(xmin, xmax, space)\n",
    "        y = f(x)\n",
    "        factor = 2 * lamda * np.random.random(x.size) - lamda + 1\n",
    "        return (x, y * factor)\n",
    "        "
   ]
  },
  {
   "cell_type": "code",
   "execution_count": 92,
   "metadata": {
    "collapsed": false
   },
   "outputs": [
    {
     "data": {
      "text/plain": [
       "[<matplotlib.lines.Line2D at 0x8f68f60>]"
      ]
     },
     "execution_count": 92,
     "metadata": {},
     "output_type": "execute_result"
    },
    {
     "data": {
      "image/png": "[encoded data removed]",
      "text/plain": [
       "<matplotlib.figure.Figure at 0x82b7f28>"
      ]
     },
     "metadata": {},
     "output_type": "display_data"
    }
   ],
   "source": [
    "def f(x):\n",
    "    return 9 * x + 5\n",
    "\n",
    "def sigmoid(x):\n",
    "    return np.ones(x.size) / (1 + np.exp(-x))\n",
    "\n",
    "(x, y) = DataSimulor.get_data(f, xmin=5, xmax=30, space=0.5, lamda=0.2)\n",
    "plt.plot(x, y, '.')"
   ]
  },
  {
   "cell_type": "markdown",
   "metadata": {},
   "source": [
    "### 公式解析：\n",
    "- 梯度下降（GD）更新公式：\n",
    "$$  \\frac{\\partial J(\\theta)}{\\partial \\theta_i} = (h_\\theta(x^{(i)}) - y^{(i)}) x_{j}^{(i)}$$\n",
    "- 随机梯度下降（SGD）更新公式：\n",
    "$$  \\frac{\\partial J(\\theta)}{\\partial \\theta_i} = \\sum_{i=1}^{m}(h_\\theta(x^{(i)}) - y^{(i)}) x_{j}^{(i)}$$"
   ]
  },
  {
   "cell_type": "code",
   "execution_count": 93,
   "metadata": {
    "collapsed": true
   },
   "outputs": [],
   "source": [
    "def gd(theta, x, y, i, j):\n",
    "    return (y[i] - np.dot(theta, x[i, :])) * x[i, j]\n",
    "\n",
    "def sgd(theta, x, y, i, j):\n",
    "    return sum([gd(theta, x, y, m, j) for m in xrange(x.shape[0])])"
   ]
  },
  {
   "cell_type": "code",
   "execution_count": 94,
   "metadata": {
    "collapsed": false
   },
   "outputs": [],
   "source": [
    "def linear_regression(x, y, dim=1, lr=0.001):\n",
    "    n = x.shape[0]\n",
    "    try:\n",
    "        feature = x.shape[1]\n",
    "    except IndexError:\n",
    "        feature = 2\n",
    "        \n",
    "    theta = np.random.random(dim + 1)\n",
    "    x = np.append(np.ones(n), x).reshape(2, n).transpose()\n",
    "    \n",
    "    # print theta\n",
    "    step = 0\n",
    "    # training\n",
    "    while(True):         \n",
    "        i = step % n\n",
    "        last_theta = copy.copy(theta)\n",
    "        \n",
    "        for j in xrange(feature):\n",
    "            theta[j] += lr * sgd(theta, x, y, i, j)\n",
    "\n",
    "        diff = theta - last_theta\n",
    "        # print theta, last_theta, diff, np.dot(diff, diff)\n",
    "        step += 1\n",
    "        if(np.dot(diff, diff) < 0.0001 or step > 1000):\n",
    "            break\n",
    "            \n",
    "    plt.plot(x[:, 1], y, '.')\n",
    "    DataSimulor.draw_line(lambda x: theta[1] * x + theta[0],xmin=5, xmax=30)\n",
    "    "
   ]
  },
  {
   "cell_type": "markdown",
   "metadata": {},
   "source": []
  },
  {
   "cell_type": "code",
   "execution_count": null,
   "metadata": {
    "collapsed": false,
    "scrolled": true
   },
   "outputs": [],
   "source": [
    "(x, y) = DataSimulor.get_data(f, xmin=5, xmax=30, space=0.2, lamda=0.3)"
   ]
  },
  {
   "cell_type": "code",
   "execution_count": 109,
   "metadata": {
    "collapsed": false
   },
   "outputs": [
    {
     "data": {
      "image/png": "[encoded data removed]",
      "text/plain": [
       "<matplotlib.figure.Figure at 0x92d4d68>"
      ]
     },
     "metadata": {},
     "output_type": "display_data"
    }
   ],
   "source": [
    "linear_regression(x, y, lr=0.00004)"
   ]
  },
  {
   "cell_type": "code",
   "execution_count": null,
   "metadata": {
    "collapsed": true
   },
   "outputs": [],
   "source": []
  }
 ],
 "metadata": {
  "anaconda-cloud": {
   "environment": null,
   "url": "https://anaconda.org/princewang1994/linearregression"
  },
  "kernelspec": {
   "display_name": "Python [default]",
   "language": "python",
   "name": "python2"
  },
  "language_info": {
   "codemirror_mode": {
    "name": "ipython",
    "version": 2
   },
   "file_extension": ".py",
   "mimetype": "text/x-python",
   "name": "python",
   "nbconvert_exporter": "python",
   "pygments_lexer": "ipython2",
   "version": "2.7.12"
  }
 },
 "nbformat": 4,
 "nbformat_minor": 1
}
