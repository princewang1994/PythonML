{
 "cells": [
  {
   "cell_type": "code",
   "execution_count": 2,
   "metadata": {
    "collapsed": true
   },
   "outputs": [],
   "source": [
    "import numpy as np\n",
    "import pandas as pd"
   ]
  },
  {
   "cell_type": "code",
   "execution_count": 3,
   "metadata": {
    "collapsed": false
   },
   "outputs": [],
   "source": [
    "data = pd.DataFrame({'x': range(10), 'y': [1, 1, 1, -1, -1, -1, 1, 1, 1, -1]})"
   ]
  },
  {
   "cell_type": "code",
   "execution_count": 4,
   "metadata": {
    "collapsed": false
   },
   "outputs": [
    {
     "data": {
      "text/plain": [
       "(0    0\n",
       " 1    1\n",
       " 2    2\n",
       " 3    3\n",
       " 4    4\n",
       " 5    5\n",
       " 6    6\n",
       " 7    7\n",
       " 8    8\n",
       " 9    9\n",
       " Name: x, dtype: int64, 0    1\n",
       " 1    1\n",
       " 2    1\n",
       " 3   -1\n",
       " 4   -1\n",
       " 5   -1\n",
       " 6    1\n",
       " 7    1\n",
       " 8    1\n",
       " 9   -1\n",
       " Name: y, dtype: int64)"
      ]
     },
     "execution_count": 4,
     "metadata": {},
     "output_type": "execute_result"
    }
   ],
   "source": [
    "x = data['x']\n",
    "y = data['y']\n",
    "#w = np.repeat(1.0/x.shape[0], x.shape[0])\n",
    "x, y,"
   ]
  },
  {
   "cell_type": "code",
   "execution_count": 51,
   "metadata": {
    "collapsed": false
   },
   "outputs": [
    {
     "data": {
      "text/plain": [
       "array([ 1,  1, -1,  1, -1,  1])"
      ]
     },
     "execution_count": 51,
     "metadata": {},
     "output_type": "execute_result"
    }
   ],
   "source": [
    "import math\n",
    "class AdaBoost:\n",
    "    def __init__(self, m, x, y, Class):\n",
    "        self.m = m\n",
    "        self.x = x\n",
    "        self.y = y\n",
    "        self.w = np.repeat(1.0/x.shape[0], x.shape[0])\n",
    "        self.clsf = [Class(x, y) for i in range(m)]\n",
    "        self.classifierWeight = np.zeros_like(self.clsf)\n",
    "        \n",
    "    def alpha(self, index):\n",
    "        e = self.clsf[index].error(self.w)\n",
    "        return 0.5 * math.log((1.0 - e) / e)\n",
    "    \n",
    "    def adjust(self, i):        \n",
    "        self.clsf[i].train(self.x, self.y, self.w)\n",
    "        a = self.alpha(i)\n",
    "        self.classifierWeight[i] = a\n",
    "        res = np.where(self.clsf[i].predict(x) != y, a, -a)\n",
    "        self.w *= np.exp(res) \n",
    "        self.w /= np.sum(self.w)\n",
    "        \n",
    "    def train(self):\n",
    "        for i in xrange(len(self.clsf)):\n",
    "            self.adjust(i)\n",
    "    def predict(self, x):\n",
    "        prdt = np.array([clsf.predict(x) for clsf in self.clsf])\n",
    "        return np.where(np.dot(prdt.T, self.classifierWeight) > 0, 1, -1)\n",
    "\n",
    "class SimpleClassifier:\n",
    "    def __init__(self, x, y):\n",
    "        self.x = x\n",
    "        self.y = y\n",
    "        self.v = 0\n",
    "        self.leftSign = 1\n",
    "        \n",
    "    def error(self, w):\n",
    "        return np.sum(np.where(self.predict(self.x) != self.y, w, 0))\n",
    "    \n",
    "    def train(self, x, y, w):\n",
    "        div = [(x[i] + x[i + 1]) / 2.0 for i in range(x.size - 1)]\n",
    "        pre = np.append([self.fit1(v, x) for v in div], [self.fit2(v, x) for v in div]).reshape(2 * len(div), x.size)\n",
    "        error = np.array([np.sum(np.where(p != y, w, 0)) for p in pre])\n",
    "        ind = error.argmin()\n",
    "        if ind > x.size:\n",
    "            self.leftSign = -1\n",
    "        else:\n",
    "            self.leftSign = 1\n",
    "        self.v = div[ind - len(div)]\n",
    " \n",
    "    def predict(self, x):\n",
    "        return np.where(x < self.v, self.leftSign, -self.leftSign)\n",
    "    def fit1(self, v, x): \n",
    "        return np.where(x < v, 1, -1)\n",
    "    def fit2(self, v, x):\n",
    "        return np.where(x > v, 1, -1)\n",
    "    \n",
    "a = AdaBoost(10, x.values, y.values, SimpleClassifier)\n",
    "a.train()\n",
    "a.predict([1.2, 1.3, 5.1, 7.3, 9.1, 8.4])"
   ]
  },
  {
   "cell_type": "code",
   "execution_count": 14,
   "metadata": {
    "collapsed": false
   },
   "outputs": [
    {
     "data": {
      "text/plain": [
       "array([1, 2, 3, 4, 1, 2, 3, 4, 3, 4, 5, 6, 3, 4, 5, 6])"
      ]
     },
     "execution_count": 14,
     "metadata": {},
     "output_type": "execute_result"
    }
   ],
   "source": [
    "np.append([[1, 2, 3, 4],[1,2, 3, 4]], [[3, 4, 5, 6], [3, 4, 5, 6]])"
   ]
  },
  {
   "cell_type": "code",
   "execution_count": 30,
   "metadata": {
    "collapsed": false
   },
   "outputs": [
    {
     "data": {
      "text/plain": [
       "-0.8472978603872036"
      ]
     },
     "execution_count": 30,
     "metadata": {},
     "output_type": "execute_result"
    }
   ],
   "source": [
    "math.log(0.3 /0.7 )"
   ]
  }
 ],
 "metadata": {
  "anaconda-cloud": {
   "environment": null,
   "summary": "Adaboost",
   "url": "https://anaconda.org/princewang1994/adaboost"
  },
  "kernelspec": {
   "display_name": "Python [default]",
   "language": "python",
   "name": "python2"
  },
  "language_info": {
   "codemirror_mode": {
    "name": "ipython",
    "version": 2
   },
   "file_extension": ".py",
   "mimetype": "text/x-python",
   "name": "python",
   "nbconvert_exporter": "python",
   "pygments_lexer": "ipython2",
   "version": "2.7.12"
  }
 },
 "nbformat": 4,
 "nbformat_minor": 1
}
