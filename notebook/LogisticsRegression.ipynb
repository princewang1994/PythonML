{
 "cells": [
  {
   "cell_type": "code",
   "execution_count": 4,
   "metadata": {
    "collapsed": true
   },
   "outputs": [],
   "source": [
    "%matplotlib inline"
   ]
  },
  {
   "cell_type": "code",
   "execution_count": 8,
   "metadata": {
    "collapsed": true
   },
   "outputs": [],
   "source": [
    "import matplotlib.pyplot as plt\n",
    "import math\n",
    "import os\n",
    "import numpy as np"
   ]
  },
  {
   "cell_type": "code",
   "execution_count": 22,
   "metadata": {
    "collapsed": false
   },
   "outputs": [],
   "source": [
    "#data clear\n",
    "\n",
    "iris_name = {'Iris-setosa':1, 'Iris-versicolor':2, 'Iris-virginica':3}\n",
    "\n",
    "indir = '../dataset/rawdata/iris/'\n",
    "outdir = '../dataset/cleardata/iris/'\n",
    "\n",
    "outfile = open(outdir + 'iris.data', 'w')\n",
    "\n",
    "if(not os.path.exists(outdir)):\n",
    "    os.makedirs(outdir)\n",
    "    \n",
    "for line in open(indir + 'iris.data'):\n",
    "    data = line.split(',')\n",
    "    for num in data[:-1]:\n",
    "        outfile.write(num + ' ')\n",
    "    outfile.write(str(iris_name[data[-1].strip()]) + '\\n')\n",
    "    \n",
    "outfile.close()"
   ]
  },
  {
   "cell_type": "code",
   "execution_count": 61,
   "metadata": {
    "collapsed": false
   },
   "outputs": [],
   "source": [
    "data = np.loadtxt(outdir + 'iris.data')"
   ]
  },
  {
   "cell_type": "code",
   "execution_count": 65,
   "metadata": {
    "collapsed": false
   },
   "outputs": [
    {
     "data": {
      "text/plain": [
       "array([[ 0.2,  1. ],\n",
       "       [ 0.2,  1. ],\n",
       "       [ 0.2,  1. ],\n",
       "       [ 0.2,  1. ],\n",
       "       [ 0.2,  1. ],\n",
       "       [ 0.4,  1. ],\n",
       "       [ 0.3,  1. ],\n",
       "       [ 0.2,  1. ],\n",
       "       [ 0.2,  1. ],\n",
       "       [ 0.1,  1. ],\n",
       "       [ 0.2,  1. ],\n",
       "       [ 0.2,  1. ],\n",
       "       [ 0.1,  1. ],\n",
       "       [ 0.1,  1. ],\n",
       "       [ 0.2,  1. ],\n",
       "       [ 0.4,  1. ],\n",
       "       [ 0.4,  1. ],\n",
       "       [ 0.3,  1. ],\n",
       "       [ 0.3,  1. ],\n",
       "       [ 0.3,  1. ],\n",
       "       [ 0.2,  1. ],\n",
       "       [ 0.4,  1. ],\n",
       "       [ 0.2,  1. ],\n",
       "       [ 0.5,  1. ],\n",
       "       [ 0.2,  1. ],\n",
       "       [ 0.2,  1. ],\n",
       "       [ 0.4,  1. ],\n",
       "       [ 0.2,  1. ],\n",
       "       [ 0.2,  1. ],\n",
       "       [ 0.2,  1. ],\n",
       "       [ 0.2,  1. ],\n",
       "       [ 0.4,  1. ],\n",
       "       [ 0.1,  1. ],\n",
       "       [ 0.2,  1. ],\n",
       "       [ 0.1,  1. ],\n",
       "       [ 0.2,  1. ],\n",
       "       [ 0.2,  1. ],\n",
       "       [ 0.1,  1. ],\n",
       "       [ 0.2,  1. ],\n",
       "       [ 0.2,  1. ],\n",
       "       [ 0.3,  1. ],\n",
       "       [ 0.3,  1. ],\n",
       "       [ 0.2,  1. ],\n",
       "       [ 0.6,  1. ],\n",
       "       [ 0.4,  1. ],\n",
       "       [ 0.3,  1. ],\n",
       "       [ 0.2,  1. ],\n",
       "       [ 0.2,  1. ],\n",
       "       [ 0.2,  1. ],\n",
       "       [ 0.2,  1. ],\n",
       "       [ 1.4,  2. ],\n",
       "       [ 1.5,  2. ],\n",
       "       [ 1.5,  2. ],\n",
       "       [ 1.3,  2. ],\n",
       "       [ 1.5,  2. ],\n",
       "       [ 1.3,  2. ],\n",
       "       [ 1.6,  2. ],\n",
       "       [ 1. ,  2. ],\n",
       "       [ 1.3,  2. ],\n",
       "       [ 1.4,  2. ],\n",
       "       [ 1. ,  2. ],\n",
       "       [ 1.5,  2. ],\n",
       "       [ 1. ,  2. ],\n",
       "       [ 1.4,  2. ],\n",
       "       [ 1.3,  2. ],\n",
       "       [ 1.4,  2. ],\n",
       "       [ 1.5,  2. ],\n",
       "       [ 1. ,  2. ],\n",
       "       [ 1.5,  2. ],\n",
       "       [ 1.1,  2. ],\n",
       "       [ 1.8,  2. ],\n",
       "       [ 1.3,  2. ],\n",
       "       [ 1.5,  2. ],\n",
       "       [ 1.2,  2. ],\n",
       "       [ 1.3,  2. ],\n",
       "       [ 1.4,  2. ],\n",
       "       [ 1.4,  2. ],\n",
       "       [ 1.7,  2. ],\n",
       "       [ 1.5,  2. ],\n",
       "       [ 1. ,  2. ],\n",
       "       [ 1.1,  2. ],\n",
       "       [ 1. ,  2. ],\n",
       "       [ 1.2,  2. ],\n",
       "       [ 1.6,  2. ],\n",
       "       [ 1.5,  2. ],\n",
       "       [ 1.6,  2. ],\n",
       "       [ 1.5,  2. ],\n",
       "       [ 1.3,  2. ],\n",
       "       [ 1.3,  2. ],\n",
       "       [ 1.3,  2. ],\n",
       "       [ 1.2,  2. ],\n",
       "       [ 1.4,  2. ],\n",
       "       [ 1.2,  2. ],\n",
       "       [ 1. ,  2. ],\n",
       "       [ 1.3,  2. ],\n",
       "       [ 1.2,  2. ],\n",
       "       [ 1.3,  2. ],\n",
       "       [ 1.3,  2. ],\n",
       "       [ 1.1,  2. ],\n",
       "       [ 1.3,  2. ],\n",
       "       [ 2.5,  3. ],\n",
       "       [ 1.9,  3. ],\n",
       "       [ 2.1,  3. ],\n",
       "       [ 1.8,  3. ],\n",
       "       [ 2.2,  3. ],\n",
       "       [ 2.1,  3. ],\n",
       "       [ 1.7,  3. ],\n",
       "       [ 1.8,  3. ],\n",
       "       [ 1.8,  3. ],\n",
       "       [ 2.5,  3. ],\n",
       "       [ 2. ,  3. ],\n",
       "       [ 1.9,  3. ],\n",
       "       [ 2.1,  3. ],\n",
       "       [ 2. ,  3. ],\n",
       "       [ 2.4,  3. ],\n",
       "       [ 2.3,  3. ],\n",
       "       [ 1.8,  3. ],\n",
       "       [ 2.2,  3. ],\n",
       "       [ 2.3,  3. ],\n",
       "       [ 1.5,  3. ],\n",
       "       [ 2.3,  3. ],\n",
       "       [ 2. ,  3. ],\n",
       "       [ 2. ,  3. ],\n",
       "       [ 1.8,  3. ],\n",
       "       [ 2.1,  3. ],\n",
       "       [ 1.8,  3. ],\n",
       "       [ 1.8,  3. ],\n",
       "       [ 1.8,  3. ],\n",
       "       [ 2.1,  3. ],\n",
       "       [ 1.6,  3. ],\n",
       "       [ 1.9,  3. ],\n",
       "       [ 2. ,  3. ],\n",
       "       [ 2.2,  3. ],\n",
       "       [ 1.5,  3. ],\n",
       "       [ 1.4,  3. ],\n",
       "       [ 2.3,  3. ],\n",
       "       [ 2.4,  3. ],\n",
       "       [ 1.8,  3. ],\n",
       "       [ 1.8,  3. ],\n",
       "       [ 2.1,  3. ],\n",
       "       [ 2.4,  3. ],\n",
       "       [ 2.3,  3. ],\n",
       "       [ 1.9,  3. ],\n",
       "       [ 2.3,  3. ],\n",
       "       [ 2.5,  3. ],\n",
       "       [ 2.3,  3. ],\n",
       "       [ 1.9,  3. ],\n",
       "       [ 2. ,  3. ],\n",
       "       [ 2.3,  3. ],\n",
       "       [ 1.8,  3. ]])"
      ]
     },
     "execution_count": 65,
     "metadata": {},
     "output_type": "execute_result"
    }
   ],
   "source": [
    "# logistic regression\n",
    "n = data.shape[0]\n",
    "f = data.shape[1]\n",
    "\n"
   ]
  },
  {
   "cell_type": "code",
   "execution_count": null,
   "metadata": {
    "collapsed": true
   },
   "outputs": [],
   "source": []
  }
 ],
 "metadata": {
  "anaconda-cloud": {},
  "kernelspec": {
   "display_name": "Python [default]",
   "language": "python",
   "name": "python2"
  },
  "language_info": {
   "codemirror_mode": {
    "name": "ipython",
    "version": 2
   },
   "file_extension": ".py",
   "mimetype": "text/x-python",
   "name": "python",
   "nbconvert_exporter": "python",
   "pygments_lexer": "ipython2",
   "version": "2.7.12"
  }
 },
 "nbformat": 4,
 "nbformat_minor": 1
}
