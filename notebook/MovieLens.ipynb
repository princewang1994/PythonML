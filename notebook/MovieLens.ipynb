{
 "cells": [
  {
   "cell_type": "code",
   "execution_count": 2,
   "metadata": {
    "collapsed": true
   },
   "outputs": [],
   "source": [
    "import pandas as pd\n",
    "import sys\n",
    "import os\n",
    "path = os.path.abspath('..')\n",
    "if not path in sys.path:\n",
    "    sys.path.append(path)"
   ]
  },
  {
   "cell_type": "code",
   "execution_count": 23,
   "metadata": {
    "collapsed": false
   },
   "outputs": [],
   "source": [
    "links = pd.read_csv('../dataset/ml1m/links.csv')\n",
    "movies = pd.read_csv('../dataset/ml1m/movies.csv')\n",
    "rating = pd.read_csv('../dataset/ml1m/ratings.csv')\n",
    "tags = pd.read_csv('../dataset/ml1m/tags.csv')\n",
    "data = pd.merge(rating, movies)"
   ]
  },
  {
   "cell_type": "code",
   "execution_count": 47,
   "metadata": {
    "collapsed": false
   },
   "outputs": [
    {
     "data": {
      "text/plain": [
       "Index([u'\"Great Performances\" Cats (1998)', u'$9.99 (2008)',\n",
       "       u''Hellboy': The Seeds of Creation (2004)',\n",
       "       u''Neath the Arizona Skies (1934)', u''Round Midnight (1986)',\n",
       "       u''Salem's Lot (2004)', u''Til There Was You (1997)',\n",
       "       u''burbs, The (1989)', u''night Mother (1986)',\n",
       "       u'(500) Days of Summer (2009)',\n",
       "       ...\n",
       "       u'Zulu (1964)', u'Zulu (2013)', u'[REC] (2007)', u'eXistenZ (1999)',\n",
       "       u'loudQUIETloud: A Film About the Pixies (2006)', u'xXx (2002)',\n",
       "       u'xXx: State of the Union (2005)', u'¡Three Amigos! (1986)',\n",
       "       u'À nous la liberté (Freedom for Us) (1931)', u'İtirazım Var (2014)'],\n",
       "      dtype='object', name=u'title', length=9064)"
      ]
     },
     "execution_count": 47,
     "metadata": {},
     "output_type": "execute_result"
    }
   ],
   "source": [
    "size = data.groupby('title').size()\n",
    "size.index\n"
   ]
  },
  {
   "cell_type": "code",
   "execution_count": 63,
   "metadata": {
    "collapsed": false
   },
   "outputs": [
    {
     "data": {
      "text/plain": [
       "1     851868750\n",
       "2    1273541953\n",
       "3     834828440\n",
       "4     847057202\n",
       "5     832525157\n",
       "6    1255591860\n",
       "7    1239755559\n",
       "8    1223256331\n",
       "9     840100695\n",
       "Name: timestamp, dtype: int64"
      ]
     },
     "execution_count": 63,
     "metadata": {},
     "output_type": "execute_result"
    }
   ],
   "source": [
    "data.iloc[1:10, 3]"
   ]
  },
  {
   "cell_type": "code",
   "execution_count": 86,
   "metadata": {
    "collapsed": false
   },
   "outputs": [
    {
     "ename": "SyntaxError",
     "evalue": "invalid syntax (<ipython-input-86-f906a07e1a62>, line 2)",
     "output_type": "error",
     "traceback": [
      "\u001b[0;36m  File \u001b[0;32m\"<ipython-input-86-f906a07e1a62>\"\u001b[0;36m, line \u001b[0;32m2\u001b[0m\n\u001b[0;31m    plt.plot?    import matplotlib.pyplot as plt\u001b[0m\n\u001b[0m            ^\u001b[0m\n\u001b[0;31mSyntaxError\u001b[0m\u001b[0;31m:\u001b[0m invalid syntax\n"
     ]
    }
   ],
   "source": [
    "import matplotlib.pyplot as plt\n",
    "plt.plot?    import matplotlib.pyplot as plt "
   ]
  },
  {
   "cell_type": "code",
   "execution_count": 91,
   "metadata": {
    "collapsed": false
   },
   "outputs": [
    {
     "data": {
      "image/png": "[encoded data removed]",
      "text/plain": [
       "<matplotlib.figure.Figure at 0xeb602b0>"
      ]
     },
     "metadata": {},
     "output_type": "display_data"
    }
   ],
   "source": [
    "%matplotlib inline\n",
    "x = range(1, 100)\n",
    "y = x\n",
    "plt.plot(x, y)\n",
    "%quickref"
   ]
  }
 ],
 "metadata": {
  "anaconda-cloud": {},
  "kernelspec": {
   "display_name": "Python [default]",
   "language": "python",
   "name": "python2"
  },
  "language_info": {
   "codemirror_mode": {
    "name": "ipython",
    "version": 2
   },
   "file_extension": ".py",
   "mimetype": "text/x-python",
   "name": "python",
   "nbconvert_exporter": "python",
   "pygments_lexer": "ipython2",
   "version": "2.7.12"
  }
 },
 "nbformat": 4,
 "nbformat_minor": 1
}
